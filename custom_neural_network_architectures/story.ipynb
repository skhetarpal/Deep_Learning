{
 "cells": [
  {
   "cell_type": "markdown",
   "metadata": {},
   "source": [
    "**<font color='red'>DISCLAIMER</font>: WARNING: This notebook takes 5 hours to run on a high power machine rented from Amazon.**\n",
    "\n",
    "**The first part of our story notebook describes the process we went through to design our Neural Network library. Because of the flexibility we wanted to have in assembling our new NN architectures in any combination of many different design choices, we had to code everything from scratch. The novelty of our varied specialty architectures, which are readily constructed by using the suite of functions in our library, is a significant part of what our final project is about. Our library file, NN.py, is submitted along with the rest of our final project files, and is imported in this story notebook as NN.** \n",
    "\n",
    "**The second part of this story notebook picks up at the point where our library is fully developed and we start running our final models on different data sets to compare them to our standard Feed Forward Neural Network.**\n",
    "\n"
   ]
  },
  {
   "cell_type": "code",
   "execution_count": 1,
   "metadata": {
    "collapsed": false
   },
   "outputs": [],
   "source": [
    "from NN import * #import our Neural Network library"
   ]
  },
  {
   "cell_type": "markdown",
   "metadata": {},
   "source": [
    "**We started testing our simple children FFNN on a toy problem with a very simple rule whereby the a single feature determines the class of an example out of 300 randomly generated binary-valued features.** "
   ]
  },
  {
   "cell_type": "code",
   "execution_count": 2,
   "metadata": {
    "collapsed": true
   },
   "outputs": [],
   "source": [
    "#test our children FFNN's with simple toy problem\n",
    "x_train = np.random.randint(2, size=(5000, 300))\n",
    "y_train = x_train[:,-2:-1]\n",
    "\n",
    "x_test = np.random.randint(2, size=(5000, 300))\n",
    "y_test = x_test[:,-2:-1]"
   ]
  },
  {
   "cell_type": "code",
   "execution_count": 3,
   "metadata": {
    "collapsed": false
   },
   "outputs": [],
   "source": [
    "epochs = 2\n",
    "alpha = 0.1\n",
    "layer_sizes = [x_train.shape[1], 3, 1]\n",
    "reg = 0\n",
    "validation_frac = 0.1\n",
    "\n",
    "w, b, errors, accs, best_epoch = FFNN(x_train, y_train, layer_sizes, alpha, reg, \n",
    "                    epochs, [], [], 0, 0, np.ones([len(layer_sizes)]), 0, 0, validation_frac)\n",
    "acc, conf_mat = FFNN_acc(x_test, y_test, layer_sizes, w, b)"
   ]
  },
  {
   "cell_type": "code",
   "execution_count": 4,
   "metadata": {
    "collapsed": false
   },
   "outputs": [
    {
     "name": "stdout",
     "output_type": "stream",
     "text": [
      "child FFNN accuracy on toy problem: 1.0\n"
     ]
    }
   ],
   "source": [
    "print('child FFNN accuracy on toy problem:', acc)"
   ]
  },
  {
   "cell_type": "markdown",
   "metadata": {},
   "source": [
    "**We then decided to test the famous xor problem, for which it was proven that a NN could only understand the xor rule with a hidden layer. Our results below show that the minimum single hidden layer of 2 neurons (to cover the 4 possible combos of xor) is enough for our NN to reach 100% accuracy, while regardless of number of training examples or training epochs, the simple NN without hidden layer can never learn the rule and reach 100% accuracy.**"
   ]
  },
  {
   "cell_type": "code",
   "execution_count": 5,
   "metadata": {
    "collapsed": false
   },
   "outputs": [],
   "source": [
    "def xor(a, b):\n",
    "    if a != b:\n",
    "        return 1\n",
    "    else:\n",
    "        return 0 \n",
    "\n",
    "#test our children FFNN's with simple toy problem\n",
    "x_train = np.random.randint(2, size=(500, 2))\n",
    "y_train = np.array([xor(ex[0], ex[1]) for ex in x_train])\n",
    "\n",
    "x_test = np.random.randint(2, size=(500, 2))\n",
    "y_test = np.array([xor(ex[0], ex[1]) for ex in x_test])\n",
    "\n",
    "y_train = np.reshape(y_train, (500, 1))\n",
    "y_test = np.reshape(y_test, (500, 1))"
   ]
  },
  {
   "cell_type": "code",
   "execution_count": 6,
   "metadata": {
    "collapsed": false
   },
   "outputs": [
    {
     "name": "stdout",
     "output_type": "stream",
     "text": [
      "xor without hidden layer: 0.492\n",
      "xor with a single hidden layer of 2 neurons: 1.0\n"
     ]
    }
   ],
   "source": [
    "# test one FFNN without hidden layer, and one with a single hidden layer of only 2 neurons\n",
    "layer_sizes_lst = [[x_train.shape[1], 1], [x_train.shape[1], 2, 1]]\n",
    "epochs = 50\n",
    "alpha = 0.1\n",
    "reg = 0\n",
    "validation_frac = 0.1\n",
    "\n",
    "w, b, errors, accs, best_epoch = FFNN(x_train, y_train, layer_sizes_lst[0], alpha, reg, \n",
    "                    epochs, [], [], 0, 0, np.ones([len(layer_sizes_lst[0])]), 0, 0, validation_frac)\n",
    "acc, conf_mat = FFNN_acc(x_test, y_test, layer_sizes, w, b)\n",
    "print(\"xor without hidden layer:\", acc)\n",
    "\n",
    "w, b, errors, accs, best_epoch = FFNN(x_train, y_train, layer_sizes_lst[1], alpha, reg, \n",
    "                    epochs, [], [], 0, 0, np.ones([len(layer_sizes_lst[1])]), 0, 0, validation_frac)\n",
    "acc, conf_mat = FFNN_acc(x_test, y_test, layer_sizes, w, b)\n",
    "print(\"xor with a single hidden layer of 2 neurons:\", acc)"
   ]
  },
  {
   "cell_type": "markdown",
   "metadata": {},
   "source": [
    "**As a small but interesting derail, we decide to explore our NN's ability to derive the xor rule with \"noise features\" added; so we add features to our original 2-feature data set. Below, we see that even when adding 18 random noise features, our NN is still able to infer the xor rule given enough examples and training epochs.**"
   ]
  },
  {
   "cell_type": "code",
   "execution_count": 7,
   "metadata": {
    "collapsed": false
   },
   "outputs": [],
   "source": [
    "#add 'noise' features to x_train\n",
    "x_train = np.random.randint(2, size=(5000, 20))\n",
    "y_train = np.array([xor(ex[0], ex[1]) for ex in x_train])\n",
    "\n",
    "x_test = np.random.randint(2, size=(5000, 20))\n",
    "y_test = np.array([xor(ex[0], ex[1]) for ex in x_test])\n",
    "\n",
    "y_train = np.reshape(y_train, (5000, 1))\n",
    "y_test = np.reshape(y_test, (5000, 1))"
   ]
  },
  {
   "cell_type": "code",
   "execution_count": 8,
   "metadata": {
    "collapsed": false
   },
   "outputs": [
    {
     "name": "stdout",
     "output_type": "stream",
     "text": [
      "xor with 18 \"noise\" features: 1.0\n"
     ]
    }
   ],
   "source": [
    "layer_sizes = [x_train.shape[1], 10, 1]\n",
    "epochs = 20\n",
    "alpha = 0.1\n",
    "reg = 0\n",
    "validation_frac = 0.1\n",
    "\n",
    "w, b, errors, accs, best_epoch = FFNN(x_train, y_train, layer_sizes, alpha, reg, \n",
    "                    epochs, [], [], 0, 0, np.ones([len(layer_sizes)]), 0, 0, validation_frac)\n",
    "acc, conf_mat = FFNN_acc(x_test, y_test, layer_sizes, w, b)\n",
    "print('xor with 18 \"noise\" features:', acc)"
   ]
  },
  {
   "cell_type": "markdown",
   "metadata": {},
   "source": [
    "**After we were confident that our basic FFNN implementation was working correctly, we created started implementing the design options we wanted to have; namely choice of feature or class specialization, stripping or non-stripping of layers in the children NN's, whether or not to add virgin layers in the parent NN, whether or not to make the weights mutable, and the option of selective backpropagation for fully connected layers.**\n",
    "\n",
    "**Here we test our child spawner function, which allows us to generate the children NN that will comprise the final synthesizer parent NN, with different parameters. Our idea of specializing learning in sub Neural Networks before synthesis in a parent NN initially focused on the features of a data set, but we thought it would be interesting to see what results we could get with class specialization with our design option. While One Versus Rest already exists, our design parameters allow us to make very different models, for example by removing the output layers of the children NN's, having the weights in certain layers of the parent NN stay mutable or immutable (or even withing a specific layer), adding virgin synthesis layers above the original output layers, and any combination of all those options.**\n",
    "\n",
    "**After playing around with different data sets (the Iris data set, a banking data set, a poker hands data set...), we chose to focus our efforts on the MNIST data set for class specialization, and on the Abalone data set for feature specialization in our children NN's. Iris had too few examples and reached maximum accuracy too soon for the results to be significant; the features in the poker hands data set were too similar...ultimately we felt that MNIST and Abalone alleviated those concerns best.**\n",
    "\n",
    "**Other lower-level design options we implemented were regularization, and whether or not to balance our data sets to have an even number of examples per class. This took an interesting meaning in the context of what we were trying to do. In the case in which we specialize our children NN's on classes, we realized that we were effectively reducing the problem to a 2-class classification problem, namely the class we were training the child NN on, and all the other classes merged into a second class. This had the effect of creating a strong imbalance whereby even if we had balanced the original data set (which we did), the training of the children was imbalanced at 9 to 1 for example in the case of the 10 classes of the MNIST data set. We gave ourselves the option to balance the data set for that case, and realized through experimentation that for big enough data sets, the value of having many training examples more than made up for the disadvantage of having an imbalanced data set.**\n",
    "\n",
    "**Another low-level design feature we implemented was to have part of the dataset be a validation data set that we could use to test our NN's after each epoch of training. This allowed us to track what the optimal number of training epochs was for each child (specialized in a single class or feature).**\n",
    "\n",
    "**Below we test a couple of models on both the balanced and imbalanced data sets for class specialization. After finding that imbalanced data gives better prediction accuracy because of the much greater number of examples despite the imbalance, we go on to only use the imbalanced data set to run our later models.**"
   ]
  },
  {
   "cell_type": "code",
   "execution_count": 10,
   "metadata": {
    "collapsed": false
   },
   "outputs": [],
   "source": [
    "'''Test Child Spawner Using MNIST'''\n",
    "\n",
    "dataset = 'mnist'\n",
    "x_train, y_train, x_test, y_test = preprocess_mldata(dataset, .7)"
   ]
  },
  {
   "cell_type": "code",
   "execution_count": 11,
   "metadata": {
    "collapsed": false
   },
   "outputs": [
    {
     "name": "stdout",
     "output_type": "stream",
     "text": [
      "children accuracies are: [0.9887137482737273, 0.9878565645983142, 0.977713224439259, 0.9700938139911425, 0.9800942902042954, 0.9713795895042621, 0.983856374113053, 0.979475213105386, 0.9661888661364827, 0.9728558502785847]\n",
      "best epochs for each child are: [8, 8, 10, 14, 6, 4, 7, 3, 17, 17]\n"
     ]
    }
   ],
   "source": [
    "'''BALANCE TEST: Create Children that are Specialized by Class and with balanced training datasets'''\n",
    "balance = 1\n",
    "alpha = 0.1\n",
    "reg = 0\n",
    "specialize_by = 'class'\n",
    "children_hidden_layers = [20]\n",
    "epochs = 20\n",
    "validation_frac = .1\n",
    "\n",
    "w_children, b_children, acc_children, ep_accs, best_epochs = Child_Spawner(x_train, y_train, children_hidden_layers, \n",
    "                                    specialize_by, balance, alpha, reg, epochs, validation_frac, x_test, y_test)\n",
    "print('children accuracies are:', acc_children)\n",
    "print('best epochs for each child are:', best_epochs)\n"
   ]
  },
  {
   "cell_type": "code",
   "execution_count": 12,
   "metadata": {
    "collapsed": false
   },
   "outputs": [
    {
     "name": "stdout",
     "output_type": "stream",
     "text": [
      "test set accuracy: 0.9554740701938188\n",
      "validation test accuracy per epoch: [ 0.95306122  0.95326531  0.95408163  0.95530612  0.95530612  0.95591837\n",
      "  0.95612245  0.95653061  0.95693878  0.95632653  0.95653061  0.95591837\n",
      "  0.95591837  0.95612245  0.95571429  0.95591837  0.9555102   0.9555102\n",
      "  0.95530612  0.9555102 ]\n",
      "Best Epoch: 8\n"
     ]
    }
   ],
   "source": [
    "'''Try a Synthesis Network with 1 layers stripped away, 1 virgin layers, no interconnections, immutable weights'''\n",
    "virgin_hidden_layers = [200]\n",
    "strip_layers = 1\n",
    "skip_layers = 1\n",
    "selective_weights = 0\n",
    "reset_zeros = 0\n",
    "layer_weights_rand = [0, 1]\n",
    "epochs = 20\n",
    "\n",
    "ac4, er4, acs4, e4 = SNN(x_train, y_train, alpha, reg, epochs, w_children, b_children, strip_layers, skip_layers,validation_frac,\n",
    "    layer_weights_rand, selective_weights, reset_zeros, children_hidden_layers, virgin_hidden_layers, x_test, y_test)"
   ]
  },
  {
   "cell_type": "code",
   "execution_count": 13,
   "metadata": {
    "collapsed": false
   },
   "outputs": [
    {
     "name": "stdout",
     "output_type": "stream",
     "text": [
      "test set accuracy: 0.961569598552312\n",
      "validation test accuracy per epoch: [ 0.95265306  0.95591837  0.95714286  0.95857143  0.95714286  0.95979592\n",
      "  0.95795918  0.95795918  0.95857143  0.96244898  0.96163265  0.96285714\n",
      "  0.96204082  0.96        0.9622449   0.9622449   0.9622449   0.96244898\n",
      "  0.96367347  0.96285714  0.96367347  0.96326531  0.96408163  0.96306122\n",
      "  0.96367347  0.96285714  0.96285714  0.96285714  0.96163265  0.96204082]\n",
      "Best Epoch: 22\n"
     ]
    }
   ],
   "source": [
    "'''Try a Synthesis Network with no layers stripped away, 1 virgin layers, no interconnections, mutable weights'''\n",
    "virgin_hidden_layers = [20]\n",
    "strip_layers = 0\n",
    "skip_layers = 0\n",
    "selective_weights = 0\n",
    "reset_zeros = 1\n",
    "layer_weights_rand = [0, 0, 1]\n",
    "epochs = 30\n",
    "\n",
    "ac6, er6, acs6, e6 = SNN(x_train, y_train, alpha, reg, epochs, w_children, b_children, strip_layers, skip_layers,validation_frac,\n",
    "    layer_weights_rand, selective_weights, reset_zeros, children_hidden_layers, virgin_hidden_layers, x_test, y_test)"
   ]
  },
  {
   "cell_type": "code",
   "execution_count": 14,
   "metadata": {
    "collapsed": false
   },
   "outputs": [
    {
     "name": "stdout",
     "output_type": "stream",
     "text": [
      "children accuracies for each class: [0.9962855374065431, 0.9953331111005286, 0.9900471451021478, 0.9869993809229011, 0.9923329682365827, 0.9894280680032382, 0.993856850326206, 0.9925234534977856, 0.9863326825086909, 0.9885232630125244]\n",
      "best epochs for each child: [1, 2, 8, 17, 14, 12, 2, 15, 15, 15]\n"
     ]
    }
   ],
   "source": [
    "'''IMBALANCE TEST: Create Children that are Specialized by Class and with imbalanced training datasets'''\n",
    "balance = 0\n",
    "alpha = 0.1\n",
    "reg = 0\n",
    "specialize_by = 'class'\n",
    "children_hidden_layers = [20]\n",
    "epochs = 20\n",
    "validation_frac = .1\n",
    "\n",
    "w_children, b_children, acc_children, ep_accs, best_epochs = Child_Spawner(x_train, y_train, children_hidden_layers, \n",
    "                                    specialize_by, balance, alpha, reg, epochs, validation_frac, x_test, y_test)\n",
    "print('children accuracies for each class:', acc_children)\n",
    "print('best epochs for each child:', best_epochs)\n"
   ]
  },
  {
   "cell_type": "code",
   "execution_count": 15,
   "metadata": {
    "collapsed": false
   },
   "outputs": [
    {
     "name": "stdout",
     "output_type": "stream",
     "text": [
      "test set accuracy: 0.9632839659031383\n",
      "validation test accuracy per epoch: [ 0.96        0.96346939  0.96367347  0.96408163  0.96408163  0.96367347\n",
      "  0.96367347  0.96408163  0.96387755  0.96387755  0.96428571  0.96428571\n",
      "  0.96428571  0.9644898   0.96408163  0.96428571  0.96428571  0.96408163\n",
      "  0.96428571  0.96428571]\n",
      "Best Epoch: 13\n"
     ]
    }
   ],
   "source": [
    "'''Try a Synthesis Network with 1 layers stripped away, 1 virgin layers, no interconnections, immutable weights'''\n",
    "virgin_hidden_layers = [200]\n",
    "strip_layers = 1\n",
    "skip_layers = 1\n",
    "selective_weights = 0\n",
    "reset_zeros = 0\n",
    "layer_weights_rand = [0, 1]\n",
    "epochs = 20\n",
    "\n",
    "ac4, er4, acs4, e4 = SNN(x_train, y_train, alpha, reg, epochs, w_children, b_children, strip_layers, skip_layers,validation_frac,\n",
    "    layer_weights_rand, selective_weights, reset_zeros, children_hidden_layers, virgin_hidden_layers, x_test, y_test)"
   ]
  },
  {
   "cell_type": "code",
   "execution_count": 16,
   "metadata": {
    "collapsed": false
   },
   "outputs": [
    {
     "name": "stdout",
     "output_type": "stream",
     "text": [
      "test set accuracy: 0.9573789228058479\n",
      "validation test accuracy per epoch: [ 0.9644898   0.96306122  0.96102041  0.95938776  0.96        0.95938776\n",
      "  0.95979592  0.95795918  0.95632653  0.95693878  0.95918367  0.95857143\n",
      "  0.9577551   0.95714286  0.95938776  0.95897959  0.96040816  0.96142857\n",
      "  0.95938776  0.95795918  0.95877551  0.95877551  0.95938776  0.95877551\n",
      "  0.96        0.96081633  0.95918367  0.96102041  0.96102041  0.96061224]\n",
      "Best Epoch: 0\n"
     ]
    }
   ],
   "source": [
    "'''Try a Synthesis Network with no layers stripped away, 1 virgin layers, no interconnections, mutable weights'''\n",
    "virgin_hidden_layers = [20]\n",
    "strip_layers = 0\n",
    "skip_layers = 0\n",
    "selective_weights = 0\n",
    "reset_zeros = 1\n",
    "layer_weights_rand = [0, 0, 1]\n",
    "epochs = 30\n",
    "\n",
    "ac6, er6, acs6, e6 = SNN(x_train, y_train, alpha, reg, epochs, w_children, b_children, strip_layers, skip_layers,validation_frac,\n",
    "    layer_weights_rand, selective_weights, reset_zeros, children_hidden_layers, virgin_hidden_layers, x_test, y_test)"
   ]
  },
  {
   "cell_type": "markdown",
   "metadata": {},
   "source": [
    "**Something that boosted our accuracy quite a bit, was to realize that we were feeding examples to our NN's in order of class, meaning for example 100 examples of class 1, then 100 examples of class 2, etc...for a data set of 1000 examples and 10 classes. This essentially prevented the NN's from learning how to differentiate between classes as well as if they were seeing alternating examples of different classes. We just started shuffling the data sets that weren't already so, and our accuracy went up significantly.**\n",
    "\n",
    "**From here on we trained a lot of class-specialized models on the MNIST data set, based on the most interesting combinations of design options such as stripping vs not stripping the output layers of the children, adding virgin synthesis layers in the parent NN, making weights mutable/immutable, and adding or not adding crossweights. We are not going through cross-validation here because of the computation cost, but we tuned the parameters to our models using powerful instances on Amazon Web Services throughout our final project, and found that the same optimal parameters applied to almost all of them.**\n",
    "\n",
    "**We start by training standard 3-layer and 4-layer FFNN's for comparison purposes without our architectures.**"
   ]
  },
  {
   "cell_type": "code",
   "execution_count": 17,
   "metadata": {
    "collapsed": false
   },
   "outputs": [
    {
     "name": "stdout",
     "output_type": "stream",
     "text": [
      "0.9681889613791133\n",
      "[ 0.93816327  0.95        0.95612245  0.95857143  0.96081633  0.96285714\n",
      "  0.96408163  0.96653061  0.96693878  0.96693878  0.96816327  0.96897959\n",
      "  0.96918367  0.96836735  0.96673469  0.9677551   0.96795918  0.96714286\n",
      "  0.96714286  0.96816327]\n"
     ]
    }
   ],
   "source": [
    "'''Test a standard 3 Layer FFNN'''\n",
    "epochs = 20\n",
    "layer_sizes = [784, 200, 10]\n",
    "w, b, errors, accs, best_epoch = FFNN(x_train, y_train, layer_sizes, alpha, reg, \n",
    "                    epochs, [], [], 0, 0, np.ones([len(layer_sizes)]), 0, 0, validation_frac)\n",
    "acc, conf_mat = FFNN_acc(x_test, y_test, layer_sizes, w, b)\n",
    "print(acc)\n",
    "print(accs)"
   ]
  },
  {
   "cell_type": "code",
   "execution_count": 18,
   "metadata": {
    "collapsed": false
   },
   "outputs": [
    {
     "name": "stdout",
     "output_type": "stream",
     "text": [
      "0.9640935282632507\n",
      "[ 0.92408163  0.9422449   0.94693878  0.95571429  0.95489796  0.95877551\n",
      "  0.95836735  0.96122449  0.96326531  0.96510204  0.96408163  0.96469388\n",
      "  0.96510204  0.96653061  0.96530612  0.9655102   0.96693878  0.96612245\n",
      "  0.96489796  0.9655102   0.96612245  0.96673469  0.96612245  0.96489796\n",
      "  0.96591837  0.9655102   0.9655102   0.96571429  0.96571429  0.96530612]\n"
     ]
    }
   ],
   "source": [
    "'''Test a standard 4 Layer FFNN'''\n",
    "epochs = 30\n",
    "layer_sizes = [784, 200, 10, 10]\n",
    "w, b, errors, accs, best_epoch = FFNN(x_train, y_train, layer_sizes, alpha, reg, \n",
    "                    epochs, [], [], 0, 0, np.ones([len(layer_sizes)]), 0, 0, validation_frac)\n",
    "acc, conf_mat = FFNN_acc(x_test, y_test, layer_sizes, w, b)\n",
    "print(acc)\n",
    "print(accs)"
   ]
  },
  {
   "cell_type": "code",
   "execution_count": 19,
   "metadata": {
    "collapsed": false
   },
   "outputs": [
    {
     "name": "stdout",
     "output_type": "stream",
     "text": [
      "test set accuracy: 0.9597599885708843\n",
      "validation test accuracy per epoch: [ 0.96081633  0.95938776  0.96        0.95938776  0.95918367  0.95979592\n",
      "  0.96        0.96020408  0.96102041  0.96102041  0.96061224  0.96081633\n",
      "  0.96040816  0.96040816  0.96020408  0.96040816  0.96040816  0.96\n",
      "  0.96020408  0.96020408  0.96040816  0.96061224  0.96061224  0.96081633\n",
      "  0.96081633  0.96020408  0.96040816  0.96040816  0.96020408  0.96020408]\n",
      "Best Epoch: 8\n"
     ]
    }
   ],
   "source": [
    "'''Try a Synthesis Network with no layers stripped away, 1 virgin layers, mutable interconnections, immutable weights'''\n",
    "virgin_hidden_layers = [10]\n",
    "strip_layers = 0\n",
    "skip_layers = 1\n",
    "selective_weights = 1\n",
    "reset_zeros = 0\n",
    "layer_weights_rand = [0, 0, 1]\n",
    "epochs = 30\n",
    "\n",
    "ac3B, er3B, acs3B, e3B = SNN(x_train, y_train, alpha, reg, epochs,w_children,b_children,strip_layers,skip_layers,validation_frac,\n",
    "    layer_weights_rand, selective_weights, reset_zeros, children_hidden_layers, virgin_hidden_layers, x_test, y_test)"
   ]
  },
  {
   "cell_type": "code",
   "execution_count": 20,
   "metadata": {
    "collapsed": false
   },
   "outputs": [
    {
     "name": "stdout",
     "output_type": "stream",
     "text": [
      "test set accuracy: 0.9579027572741559\n",
      "validation test accuracy per epoch: [ 0.96346939  0.96265306  0.96244898  0.95979592  0.95938776  0.95897959\n",
      "  0.95714286  0.95693878  0.95428571  0.95836735  0.95795918  0.95755102\n",
      "  0.95755102  0.95857143  0.96        0.95571429  0.9577551   0.95857143\n",
      "  0.95877551  0.95979592  0.96061224  0.95959184  0.95918367  0.96020408\n",
      "  0.95877551  0.95877551  0.95795918  0.95795918  0.95857143  0.96020408]\n",
      "Best Epoch: 0\n"
     ]
    }
   ],
   "source": [
    "'''Try a Synthesis Network with no layers stripped away, 1 virgin layers, no interconnections, mutable weights'''\n",
    "virgin_hidden_layers = [10]\n",
    "strip_layers = 0\n",
    "skip_layers = 0\n",
    "selective_weights = 0\n",
    "reset_zeros = 1\n",
    "layer_weights_rand = [0, 0, 1]\n",
    "epochs = 30\n",
    "\n",
    "ac6B, er6B, acs6B, e6B = SNN(x_train, y_train, alpha, reg, epochs,w_children,b_children,strip_layers,skip_layers,validation_frac,\n",
    "    layer_weights_rand, selective_weights, reset_zeros, children_hidden_layers, virgin_hidden_layers, x_test, y_test)"
   ]
  },
  {
   "cell_type": "markdown",
   "metadata": {},
   "source": [
    "**Below we reimplement voting and stacking ensemble methods as special cases using our library in order to see how they fair against our architectures.**"
   ]
  },
  {
   "cell_type": "code",
   "execution_count": 21,
   "metadata": {
    "collapsed": false
   },
   "outputs": [
    {
     "name": "stdout",
     "output_type": "stream",
     "text": [
      "test set accuracy: 0.9614743559217106\n",
      "validation test accuracy per epoch: [ 0.96346939]\n",
      "Best Epoch: 0\n"
     ]
    }
   ],
   "source": [
    "'''Try a Synthesis Network with no layers stripped away, no virgin layers, no interconnections - ie. Voting'''\n",
    "virgin_hidden_layers = []\n",
    "strip_layers = 0\n",
    "skip_layers = 2\n",
    "selective_weights = 0\n",
    "reset_zeros = 0\n",
    "layer_weights_rand = [0, 0]\n",
    "epochs = 1\n",
    "\n",
    "ac1, er1, acs1, e1 = SNN(x_train, y_train, alpha, reg, epochs, w_children, b_children, strip_layers,skip_layers, validation_frac,\n",
    "    layer_weights_rand, selective_weights, reset_zeros, children_hidden_layers, virgin_hidden_layers, x_test, y_test)"
   ]
  },
  {
   "cell_type": "code",
   "execution_count": 22,
   "metadata": {
    "collapsed": false
   },
   "outputs": [
    {
     "name": "stdout",
     "output_type": "stream",
     "text": [
      "test set accuracy: 0.9596647459402828\n",
      "validation test accuracy per epoch: [ 0.96346939  0.96367347  0.96326531  0.96326531  0.96326531  0.96306122\n",
      "  0.96285714  0.96285714  0.96265306  0.96285714  0.96285714  0.96285714\n",
      "  0.96285714  0.96265306  0.9622449   0.9622449   0.96204082  0.96204082\n",
      "  0.96163265  0.96163265  0.96163265  0.96163265  0.96163265  0.96163265\n",
      "  0.96142857  0.96163265  0.96163265  0.96163265  0.96163265  0.96163265]\n",
      "Best Epoch: 1\n"
     ]
    }
   ],
   "source": [
    "'''Try a Synthesis Network with no layers stripped away, 1 virgin layers, no interconnections - ie. Stacking'''\n",
    "virgin_hidden_layers = [10]\n",
    "strip_layers = 0\n",
    "skip_layers = 2\n",
    "selective_weights = 0\n",
    "reset_zeros = 0\n",
    "layer_weights_rand = [0, 0, 1]\n",
    "epochs = 30\n",
    "\n",
    "ac2, er2, acs2, e2 = SNN(x_train, y_train, alpha, reg, epochs, w_children, b_children, strip_layers,skip_layers, validation_frac,\n",
    "    layer_weights_rand, selective_weights, reset_zeros, children_hidden_layers, virgin_hidden_layers, x_test, y_test)"
   ]
  },
  {
   "cell_type": "code",
   "execution_count": 23,
   "metadata": {
    "collapsed": false
   },
   "outputs": [
    {
     "name": "stdout",
     "output_type": "stream",
     "text": [
      "test set accuracy: 0.9629982380113339\n",
      "validation test accuracy per epoch: [ 0.96122449  0.96285714  0.96285714  0.96387755  0.96346939  0.96326531\n",
      "  0.96367347  0.96346939  0.96346939  0.96367347  0.96367347  0.96326531\n",
      "  0.96346939  0.96346939  0.96387755  0.96387755  0.96387755  0.96387755\n",
      "  0.96387755  0.96346939]\n",
      "Best Epoch: 3\n"
     ]
    }
   ],
   "source": [
    "'''Try a Synthesis Network with 1 layers stripped away, 1 virgin layers, no interconnections, immutable weights'''\n",
    "virgin_hidden_layers = [200]\n",
    "strip_layers = 1\n",
    "skip_layers = 1\n",
    "selective_weights = 0\n",
    "reset_zeros = 0\n",
    "layer_weights_rand = [0, 1]\n",
    "epochs = 20\n",
    "\n",
    "ac4, er4, acs4, e4 = SNN(x_train, y_train, alpha, reg, epochs, w_children, b_children, strip_layers, skip_layers,validation_frac,\n",
    "    layer_weights_rand, selective_weights, reset_zeros, children_hidden_layers, virgin_hidden_layers, x_test, y_test)"
   ]
  },
  {
   "cell_type": "code",
   "execution_count": 24,
   "metadata": {
    "collapsed": false
   },
   "outputs": [
    {
     "name": "stdout",
     "output_type": "stream",
     "text": [
      "test set accuracy: 0.9629982380113339\n",
      "validation test accuracy per epoch: [ 0.95836735  0.96265306  0.96428571  0.96428571  0.96408163  0.96428571\n",
      "  0.96469388  0.96489796  0.96571429  0.96612245  0.9655102   0.9655102\n",
      "  0.9655102   0.96591837  0.96591837  0.96571429  0.96571429  0.96632653\n",
      "  0.96612245  0.96571429  0.96571429  0.9655102   0.96571429  0.96591837\n",
      "  0.96591837  0.96591837  0.96571429  0.9655102   0.96571429  0.96632653]\n",
      "Best Epoch: 17\n"
     ]
    }
   ],
   "source": [
    "'''Try a Synthesis Network with 1 layers stripped away, 2 virgin layers, no interconnections, immutable weights'''\n",
    "virgin_hidden_layers = [200, 50]\n",
    "strip_layers = 1\n",
    "skip_layers = 1\n",
    "selective_weights = 0\n",
    "reset_zeros = 0\n",
    "layer_weights_rand = [0, 1, 1]\n",
    "epochs = 30\n",
    "\n",
    "ac5, er5, acs5, e5 = SNN(x_train, y_train, alpha, reg, epochs, w_children, b_children, strip_layers, skip_layers,validation_frac,\n",
    "    layer_weights_rand, selective_weights, reset_zeros, children_hidden_layers, virgin_hidden_layers, x_test, y_test)"
   ]
  },
  {
   "cell_type": "code",
   "execution_count": 25,
   "metadata": {
    "collapsed": false
   },
   "outputs": [
    {
     "name": "stdout",
     "output_type": "stream",
     "text": [
      "test set accuracy: 0.9608076575075004\n",
      "validation test accuracy per epoch: [ 0.95918367  0.96061224  0.96122449  0.95959184  0.9544898   0.96020408\n",
      "  0.96122449  0.96183673  0.96163265  0.95755102  0.96        0.96163265\n",
      "  0.96244898  0.96163265  0.96020408  0.95857143  0.9577551   0.96061224\n",
      "  0.96265306  0.96183673  0.96265306  0.96244898  0.9622449   0.96244898\n",
      "  0.96306122  0.96265306  0.96265306  0.96244898  0.96306122  0.96163265]\n",
      "Best Epoch: 24\n"
     ]
    }
   ],
   "source": [
    "'''TEST EVERYTHING MUTABLE'''\n",
    "'''Try a Synthesis Network with no layers stripped away, 1 virgin layers, with interconnections, mutable weights'''\n",
    "virgin_hidden_layers = [10]\n",
    "strip_layers = 0\n",
    "skip_layers = 0\n",
    "selective_weights = 0\n",
    "reset_zeros = 0\n",
    "layer_weights_rand = [0, 0, 1]\n",
    "epochs = 30\n",
    "\n",
    "ac62, er62, acs62, e62 = SNN(x_train, y_train, alpha, reg, epochs,w_children,b_children,strip_layers,skip_layers,validation_frac,\n",
    "    layer_weights_rand, selective_weights, reset_zeros, children_hidden_layers, virgin_hidden_layers, x_test, y_test)"
   ]
  },
  {
   "cell_type": "code",
   "execution_count": 26,
   "metadata": {
    "collapsed": false
   },
   "outputs": [
    {
     "name": "stdout",
     "output_type": "stream",
     "text": [
      "test set accuracy: 0.9606171722462974\n",
      "validation test accuracy per epoch: [ 0.96163265  0.96        0.95938776  0.95979592  0.95857143  0.95632653\n",
      "  0.95632653  0.95938776  0.95897959  0.9577551   0.95938776  0.9622449\n",
      "  0.96102041  0.96142857  0.95979592  0.96040816  0.96020408  0.96265306\n",
      "  0.96326531  0.96244898  0.96183673  0.96183673  0.96285714  0.9622449\n",
      "  0.96183673  0.96183673  0.96204082  0.96102041  0.96142857  0.96040816]\n",
      "Best Epoch: 18\n"
     ]
    }
   ],
   "source": [
    "'''TEST INTERCONNECTIONS INITIALIZED TO RAND'''\n",
    "'''Try a Synthesis Network with no layers stripped away, 1 virgin layers, with interconnections, mutable weights'''\n",
    "virgin_hidden_layers = [10]\n",
    "strip_layers = 0\n",
    "skip_layers = 0\n",
    "selective_weights = 0\n",
    "reset_zeros = 0\n",
    "layer_weights_rand = [0, 1, 1]\n",
    "epochs = 30\n",
    "\n",
    "ac63, er63, acs63, e63 = SNN(x_train, y_train, alpha, reg, epochs,w_children,b_children,strip_layers,skip_layers,validation_frac,\n",
    "    layer_weights_rand, selective_weights, reset_zeros, children_hidden_layers, virgin_hidden_layers, x_test, y_test)"
   ]
  },
  {
   "cell_type": "code",
   "execution_count": 27,
   "metadata": {
    "collapsed": false
   },
   "outputs": [
    {
     "name": "stdout",
     "output_type": "stream",
     "text": [
      "children accuracies for each class: [0.9962855374065431, 0.9954759750464308, 0.9903804943092528, 0.9857136054097814, 0.9919519977141769, 0.9886185056431258, 0.9937616076956045, 0.9917138911376733, 0.9853802562026763, 0.9879994285442164]\n",
      "best epochs for each child: [3, 4, 9, 17, 10, 7, 9, 2, 11, 16]\n"
     ]
    }
   ],
   "source": [
    "'''Create Deep Children with 2 hidden layers that are Specialized by Class'''\n",
    "balance = 0\n",
    "alpha = 0.1\n",
    "reg = 0\n",
    "specialize_by = 'class'\n",
    "children_hidden_layers = [20, 20]\n",
    "epochs = 20\n",
    "validation_frac = .1\n",
    "\n",
    "w_children, b_children, acc_children, ep_accs, best_epochs = Child_Spawner(x_train, y_train, children_hidden_layers, \n",
    "                                    specialize_by, balance, alpha, reg, epochs, validation_frac, x_test, y_test)\n",
    "print('children accuracies for each class:', acc_children)\n",
    "print('best epochs for each child:', best_epochs)\n"
   ]
  },
  {
   "cell_type": "code",
   "execution_count": 28,
   "metadata": {
    "collapsed": false
   },
   "outputs": [
    {
     "name": "stdout",
     "output_type": "stream",
     "text": [
      "test set accuracy: 0.9593313967331778\n",
      "validation test accuracy per epoch: [ 0.96061224  0.96040816  0.96040816  0.96061224  0.96081633  0.96102041\n",
      "  0.96102041  0.96102041  0.96081633  0.96081633  0.96081633  0.96122449\n",
      "  0.96122449  0.96102041  0.96102041  0.96122449  0.96122449  0.96122449\n",
      "  0.96142857  0.96142857  0.96142857  0.96102041  0.96102041  0.96102041\n",
      "  0.96081633  0.96061224  0.96040816  0.96061224  0.96081633  0.96081633]\n",
      "Best Epoch: 18\n"
     ]
    }
   ],
   "source": [
    "'''Try a DEEP Synthesis Network with 1 layers stripped away, 2 virgin layers, with interconnections, immutable weights'''\n",
    "virgin_hidden_layers = [200, 200]\n",
    "strip_layers = 1\n",
    "skip_layers = 2\n",
    "selective_weights = 0\n",
    "reset_zeros = 0\n",
    "layer_weights_rand = [0, 0, 1, 1]\n",
    "epochs = 30\n",
    "\n",
    "ac61, er61, acs61, e61 = SNN(x_train, y_train, alpha, reg, epochs,w_children,b_children,strip_layers,skip_layers,validation_frac,\n",
    "    layer_weights_rand, selective_weights, reset_zeros, children_hidden_layers, virgin_hidden_layers, x_test, y_test)"
   ]
  },
  {
   "cell_type": "code",
   "execution_count": 29,
   "metadata": {
    "collapsed": false
   },
   "outputs": [
    {
     "name": "stdout",
     "output_type": "stream",
     "text": [
      "test set accuracy: 0.9638078003714463\n",
      "validation test accuracy per epoch: [ 0.96183673  0.96183673  0.96367347  0.96408163  0.96285714  0.96265306\n",
      "  0.96122449  0.96428571  0.96510204  0.96408163  0.96489796  0.96346939\n",
      "  0.96387755  0.96571429  0.96510204  0.96469388  0.96469388  0.96387755\n",
      "  0.96408163  0.96469388  0.96489796  0.96469388  0.96306122  0.96469388\n",
      "  0.96367347  0.96408163  0.96469388  0.96489796  0.96367347  0.96489796]\n",
      "Best Epoch: 13\n"
     ]
    }
   ],
   "source": [
    "'''Try a DEEP Synthesis Network with 1 layers stripped away, 2 virgin layers, with RAND interconnections, mutable weights'''\n",
    "virgin_hidden_layers = [200, 200]\n",
    "strip_layers = 1\n",
    "skip_layers = 0\n",
    "selective_weights = 0\n",
    "reset_zeros = 0\n",
    "layer_weights_rand = [0, 1, 1, 1]\n",
    "epochs = 30\n",
    "\n",
    "ac64, er64, acs64, e64 = SNN(x_train, y_train, alpha, reg, epochs,w_children,b_children,strip_layers,skip_layers,validation_frac,\n",
    "    layer_weights_rand, selective_weights, reset_zeros, children_hidden_layers, virgin_hidden_layers, x_test, y_test)"
   ]
  },
  {
   "cell_type": "markdown",
   "metadata": {},
   "source": [
    "**Here we tried using Dimensionality Reduction on the MNIST data set in order to test the effects of some of our feature specialization architectures. We one again ran a standard FFNN for comparison purporse; however the results of the models, including the standard FFNN, were subpar compared to using class specialization on the original data set.**"
   ]
  },
  {
   "cell_type": "code",
   "execution_count": 30,
   "metadata": {
    "collapsed": false
   },
   "outputs": [
    {
     "name": "stderr",
     "output_type": "stream",
     "text": [
      "/home/ubuntu/anaconda3/envs/tensorflow/lib/python3.5/site-packages/sklearn/discriminant_analysis.py:387: UserWarning: Variables are collinear.\n",
      "  warnings.warn(\"Variables are collinear.\")\n"
     ]
    }
   ],
   "source": [
    "'''Use the reduced dimensionality set before running feature specialized children networks'''\n",
    "num_pca = 10\n",
    "x_train, y_train, x_test, y_test = preprocess_mldata(dataset, .7)\n",
    "x_train, x_test = dim_reduce(x_train, y_train, x_test, num_pca)"
   ]
  },
  {
   "cell_type": "code",
   "execution_count": 31,
   "metadata": {
    "collapsed": false
   },
   "outputs": [
    {
     "name": "stdout",
     "output_type": "stream",
     "text": [
      "0.9446164103052527\n",
      "[ 0.91142857  0.92306122  0.92857143  0.93285714  0.93346939  0.93591837\n",
      "  0.93755102  0.93877551  0.93877551  0.94122449  0.94040816  0.93938776\n",
      "  0.94020408  0.94061224  0.94020408  0.94163265  0.94081633  0.94204082\n",
      "  0.94102041  0.94306122]\n"
     ]
    }
   ],
   "source": [
    "'''Test a normal 3 Layer FFNN'''\n",
    "epochs = 20\n",
    "layer_sizes = [19, 190, 10]\n",
    "w, b, errors, accs, best_epoch = FFNN(x_train, y_train, layer_sizes, alpha, reg, \n",
    "                    epochs, [], [], 0, 0, np.ones([len(layer_sizes)]), 0, 0, validation_frac)\n",
    "acc, conf_mat = FFNN_acc(x_test, y_test, layer_sizes, w, b)\n",
    "print(acc)\n",
    "print(accs)"
   ]
  },
  {
   "cell_type": "code",
   "execution_count": 32,
   "metadata": {
    "collapsed": false
   },
   "outputs": [
    {
     "name": "stdout",
     "output_type": "stream",
     "text": [
      "children accuracy is [0.3036811276727463, 0.2112481546740321, 0.29810943378256105, 0.3475879803800181, 0.284442116291252, 0.22586789847135577, 0.18700890518596125, 0.2244392590123339, 0.21734368303252535, 0.18215153102528692, 0.4193533025382161, 0.360064764988809, 0.4194961664841183, 0.326729844278299, 0.2989189961426735, 0.2927758464688795, 0.26791751988189916, 0.24329729987142246, 0.2369160436211248]\n",
      "best epochs for children are [18, 19, 5, 10, 11, 9, 11, 1, 17, 6, 3, 8, 3, 1, 0, 13, 5, 18, 2]\n"
     ]
    }
   ],
   "source": [
    "'''Create Children that are Specialized by Features'''\n",
    "specialize_by = 'features'\n",
    "children_hidden_layers = [10]\n",
    "epochs = 20\n",
    "\n",
    "w_children, b_children, acc_children, _, best_epochs = Child_Spawner(x_train, y_train, children_hidden_layers, specialize_by, \n",
    "                                                     balance, alpha, reg, epochs, validation_frac, x_test, y_test)\n",
    "print('children accuracy is', acc_children)\n",
    "print('best epochs for children are', best_epochs)"
   ]
  },
  {
   "cell_type": "code",
   "execution_count": 33,
   "metadata": {
    "collapsed": false
   },
   "outputs": [
    {
     "name": "stdout",
     "output_type": "stream",
     "text": [
      "test set accuracy: 0.910519548549931\n",
      "validation test accuracy per epoch: [ 0.90387755  0.90857143  0.91        0.91        0.91081633  0.91061224\n",
      "  0.91122449  0.91204082  0.91244898  0.91306122  0.91326531  0.91387755\n",
      "  0.9144898   0.9144898   0.91489796  0.91489796  0.91489796  0.91510204\n",
      "  0.91510204  0.91510204]\n",
      "Best Epoch: 17\n"
     ]
    }
   ],
   "source": [
    "'''Try a Synthesis Network with 1 layers stripped away, 1 virgin layers, no interconnections, immutable weights'''\n",
    "virgin_hidden_layers = [190]\n",
    "strip_layers = 1\n",
    "skip_layers = 1\n",
    "selective_weights = 0\n",
    "reset_zeros = 0\n",
    "layer_weights_rand = [0, 1]\n",
    "epochs = 20\n",
    "\n",
    "ac9, er9, acs9, e9 = SNN(x_train, y_train, alpha, reg, epochs, w_children, b_children, strip_layers,skip_layers, validation_frac,\n",
    "    layer_weights_rand, selective_weights, reset_zeros, children_hidden_layers, virgin_hidden_layers, x_test, y_test)"
   ]
  },
  {
   "cell_type": "code",
   "execution_count": 34,
   "metadata": {
    "collapsed": false
   },
   "outputs": [
    {
     "name": "stdout",
     "output_type": "stream",
     "text": [
      "test set accuracy: 0.9099957140816229\n",
      "validation test accuracy per epoch: [ 0.89122449  0.90346939  0.90653061  0.91081633  0.91244898  0.91367347\n",
      "  0.91346939  0.91387755  0.91306122  0.91326531  0.91428571  0.9144898\n",
      "  0.91367347  0.9144898   0.91367347  0.91326531  0.91367347  0.9144898\n",
      "  0.9144898   0.91591837  0.91653061  0.91591837  0.91653061  0.91632653\n",
      "  0.91673469  0.91714286  0.91734694  0.91673469  0.91673469  0.91653061]\n",
      "Best Epoch: 26\n"
     ]
    }
   ],
   "source": [
    "'''Try a Synthesis Network with no layers stripped away, 1 virgin layers, no interconnections, mutable weights'''\n",
    "virgin_hidden_layers = [10]\n",
    "strip_layers = 0\n",
    "skip_layers = 0\n",
    "selective_weights = 0\n",
    "reset_zeros = 1\n",
    "layer_weights_rand = [0, 0, 1]\n",
    "epochs = 30\n",
    "\n",
    "ac10, er10, acs10, e10 = SNN(x_train, y_train, alpha, reg, epochs,w_children,b_children,strip_layers,skip_layers,validation_frac,\n",
    "    layer_weights_rand, selective_weights, reset_zeros, children_hidden_layers, virgin_hidden_layers, x_test, y_test)"
   ]
  },
  {
   "cell_type": "markdown",
   "metadata": {
    "collapsed": false
   },
   "source": [
    "**We then used the Abalone data set to test our feature specialized architectures.**"
   ]
  },
  {
   "cell_type": "code",
   "execution_count": 35,
   "metadata": {
    "collapsed": true
   },
   "outputs": [],
   "source": [
    "abalone = pd.read_csv(\"http://archive.ics.uci.edu/ml/machine-learning-databases/abalone/abalone.data\", header=None)\n",
    "\n",
    "#encode non-numerical values into integers, in this case M for male, F for female and I for infant into 0, 1 and 2\n",
    "abalone[0] = abalone[[0]].apply(lambda x: x.astype('category')).apply(lambda x: x.cat.codes)\n",
    "\n",
    "abalone = abalone.rename(columns = {8:'class'})\n",
    "#remove the classes with fewer than 10 examples\n",
    "abalone = abalone.drop(abalone[abalone['class'] < 3].index)\n",
    "abalone = abalone.drop(abalone[abalone['class'] > 21].index)\n",
    "abalone['class'] = abalone['class'] - 3\n",
    "\n",
    "x_train, y_train, x_test, y_test = split(abalone, .7)\n",
    "\n",
    "# Standardize the training and test data\n",
    "scaler = preprocessing.StandardScaler().fit(x_train)\n",
    "x_train = scaler.transform(x_train)\n",
    "x_test = scaler.transform(x_test)\n",
    "\n",
    "#binarize classes\n",
    "y_train = y_bin(y_train).astype(np.int64)\n",
    "y_test = y_bin(y_test).astype(np.int64)"
   ]
  },
  {
   "cell_type": "code",
   "execution_count": 36,
   "metadata": {
    "collapsed": true
   },
   "outputs": [],
   "source": [
    "balance = 0\n",
    "alpha = 0.01\n",
    "reg = 0\n",
    "validation_frac = .1"
   ]
  },
  {
   "cell_type": "markdown",
   "metadata": {},
   "source": [
    "**As before, we first run a standard FFNN on the data set for comparison purporses, before moving on to testing our architectures**"
   ]
  },
  {
   "cell_type": "code",
   "execution_count": 37,
   "metadata": {
    "collapsed": false
   },
   "outputs": [
    {
     "name": "stdout",
     "output_type": "stream",
     "text": [
      "0.23897353648757017\n",
      "[ 0.18900344  0.17525773  0.19243986  0.18556701  0.18900344  0.19243986\n",
      "  0.19931271  0.21305842  0.23367698  0.23367698  0.24398625  0.24398625\n",
      "  0.24054983  0.24054983  0.2371134   0.23024055  0.23024055  0.22680412\n",
      "  0.23024055  0.23024055  0.22680412  0.22680412  0.2233677   0.2233677\n",
      "  0.2233677   0.2233677   0.23024055  0.23024055  0.23024055  0.23024055\n",
      "  0.23024055  0.22680412  0.22680412  0.22680412  0.22680412  0.22680412\n",
      "  0.2233677   0.2233677   0.2233677   0.2233677   0.2233677   0.21993127\n",
      "  0.21993127  0.2233677   0.2233677   0.2233677   0.2233677   0.2233677\n",
      "  0.2233677   0.2233677   0.2233677   0.2233677   0.2233677   0.2233677\n",
      "  0.22680412  0.23024055  0.23024055  0.23024055  0.23024055  0.22680412\n",
      "  0.22680412  0.22680412  0.22680412  0.22680412  0.22680412  0.22680412\n",
      "  0.22680412  0.22680412  0.22680412  0.22680412  0.2233677   0.2233677\n",
      "  0.2233677   0.2233677   0.2233677   0.2233677   0.22680412  0.22680412\n",
      "  0.22680412  0.22680412  0.22680412  0.22680412  0.22680412  0.22680412\n",
      "  0.22680412  0.22680412  0.22680412  0.23024055  0.23024055  0.23024055\n",
      "  0.23024055  0.23024055  0.23024055  0.23024055  0.22680412  0.2233677\n",
      "  0.2233677   0.2233677   0.2233677   0.2233677 ]\n"
     ]
    }
   ],
   "source": [
    "'''Test a standard 3 Layer FFNN'''\n",
    "epochs = 100\n",
    "layer_sizes = [8, 160, 19]\n",
    "w, b, errors, accs, best_epoch = FFNN(x_train, y_train, layer_sizes, alpha, reg, \n",
    "                    epochs, [], [], 0, 0, np.ones([len(layer_sizes)]), 0, 0, validation_frac)\n",
    "acc, conf_mat = FFNN_acc(x_test, y_test, layer_sizes, w, b)\n",
    "print(acc)\n",
    "print(accs)\n"
   ]
  },
  {
   "cell_type": "code",
   "execution_count": 38,
   "metadata": {
    "collapsed": false
   },
   "outputs": [
    {
     "name": "stdout",
     "output_type": "stream",
     "text": [
      "children accuracy is [0.16599839615076184, 0.16680032076984763, 0.1740176423416199, 0.16599839615076184, 0.23817161186848437, 0.20609462710505214, 0.18203688853247796, 0.21331194867682438]\n",
      "best epochs for children are [0, 0, 38, 0, 14, 19, 5, 47]\n"
     ]
    }
   ],
   "source": [
    "'''Create Children that are Specialized by Features'''\n",
    "specialize_by = 'features'\n",
    "children_hidden_layers = [20]\n",
    "epochs = 50\n",
    "\n",
    "w_children, b_children, acc_children, accs, best_epochs = Child_Spawner(x_train, y_train, children_hidden_layers, \n",
    "                                    specialize_by, balance, alpha, reg, epochs, validation_frac, x_test, y_test)\n",
    "print('children accuracy is', acc_children)\n",
    "print('best epochs for children are', best_epochs)"
   ]
  },
  {
   "cell_type": "code",
   "execution_count": 39,
   "metadata": {
    "collapsed": false
   },
   "outputs": [
    {
     "name": "stdout",
     "output_type": "stream",
     "text": [
      "test set accuracy: 0.25340817963111467\n",
      "validation test accuracy per epoch: [ 0.21993127  0.20618557  0.20962199  0.2233677   0.24742268  0.25773196\n",
      "  0.27147766  0.26804124  0.27491409  0.26804124  0.26460481  0.26116838\n",
      "  0.25773196  0.25773196  0.25085911  0.24742268  0.24398625  0.24742268\n",
      "  0.24742268  0.24742268  0.24742268  0.24742268  0.24742268  0.24054983\n",
      "  0.23367698  0.23367698  0.23367698  0.23024055  0.23367698  0.23367698\n",
      "  0.23367698  0.23367698  0.23024055  0.23367698  0.23367698  0.23024055\n",
      "  0.22680412  0.22680412  0.2233677   0.2233677   0.22680412  0.22680412\n",
      "  0.2233677   0.2233677   0.22680412  0.22680412  0.22680412  0.22680412\n",
      "  0.22680412  0.22680412  0.22680412  0.22680412  0.2233677   0.22680412\n",
      "  0.22680412  0.22680412  0.23024055  0.23024055  0.23024055  0.23024055\n",
      "  0.23024055  0.2233677   0.2233677   0.21993127  0.21649485  0.21993127\n",
      "  0.21993127  0.21993127  0.21993127  0.21993127  0.21993127  0.21993127\n",
      "  0.21993127  0.21993127  0.21993127  0.22680412  0.23024055  0.23024055\n",
      "  0.23024055  0.23024055  0.23024055  0.23024055  0.23024055  0.23367698\n",
      "  0.23367698  0.23367698  0.23367698  0.23367698  0.23367698  0.23367698\n",
      "  0.23367698  0.23367698  0.23367698  0.23367698  0.23367698  0.23367698\n",
      "  0.23367698  0.23367698  0.23367698  0.23024055]\n",
      "Best Epoch: 8\n"
     ]
    }
   ],
   "source": [
    "'''Try a Synthesis Network with 1 layers stripped away, 1 virgin layers, with interconnections, mutable weights'''\n",
    "virgin_hidden_layers = [160]\n",
    "strip_layers = 1\n",
    "skip_layers = 0\n",
    "selective_weights = 0\n",
    "reset_zeros = 0\n",
    "layer_weights_rand = [1, 1]\n",
    "epochs = 100\n",
    "\n",
    "ac1F, er1F, acs1F, e1F = SNN(x_train, y_train, alpha, reg, epochs, w_children, b_children, strip_layers,skip_layers, validation_frac,\n",
    "    layer_weights_rand, selective_weights, reset_zeros, children_hidden_layers, virgin_hidden_layers, x_test, y_test)"
   ]
  },
  {
   "cell_type": "code",
   "execution_count": 40,
   "metadata": {
    "collapsed": false
   },
   "outputs": [
    {
     "name": "stdout",
     "output_type": "stream",
     "text": [
      "test set accuracy: 0.2550120288692863\n",
      "validation test accuracy per epoch: [ 0.16838488  0.19243986  0.18900344  0.20274914  0.23024055  0.2371134\n",
      "  0.24742268  0.26116838  0.26460481  0.26460481  0.26804124  0.26804124\n",
      "  0.26460481  0.26116838  0.26116838  0.26116838  0.25773196  0.25773196\n",
      "  0.25429553  0.25773196  0.25773196  0.25773196  0.25773196  0.26116838\n",
      "  0.26116838  0.25773196  0.25429553  0.25429553  0.25085911  0.25085911\n",
      "  0.24742268  0.24742268  0.24742268  0.24742268  0.24398625  0.24742268\n",
      "  0.24398625  0.24398625  0.24398625  0.24054983  0.24054983  0.24054983\n",
      "  0.24054983  0.2371134   0.2371134   0.2371134   0.2371134   0.2371134\n",
      "  0.23367698  0.2371134   0.23367698  0.2371134   0.24054983  0.24054983\n",
      "  0.24398625  0.24398625  0.24054983  0.2371134   0.2371134   0.2371134\n",
      "  0.2371134   0.2371134   0.2371134   0.2371134   0.2371134   0.2371134\n",
      "  0.2371134   0.2371134   0.2371134   0.2371134   0.2371134   0.2371134\n",
      "  0.2371134   0.23024055  0.23024055  0.23367698  0.23367698  0.23024055\n",
      "  0.23024055  0.23024055  0.23024055  0.23024055  0.23024055  0.23024055\n",
      "  0.23024055  0.23024055  0.23024055  0.23024055  0.23024055  0.22680412\n",
      "  0.22680412  0.23024055  0.23024055  0.23024055  0.23367698  0.2371134\n",
      "  0.2371134   0.2371134   0.2371134   0.2371134 ]\n",
      "Best Epoch: 10\n"
     ]
    }
   ],
   "source": [
    "'''Try a Synthesis Network with 1 layers stripped away, 1 virgin layers, with interconnections, immutable weights'''\n",
    "virgin_hidden_layers = [160]\n",
    "strip_layers = 1\n",
    "skip_layers = 0\n",
    "selective_weights = 1\n",
    "reset_zeros = 0\n",
    "layer_weights_rand = [1, 1]\n",
    "epochs = 100\n",
    "\n",
    "ac1F, er1F, acs1F, e1F = SNN(x_train, y_train, alpha, reg, epochs, w_children, b_children, strip_layers,skip_layers, validation_frac,\n",
    "    layer_weights_rand, selective_weights, reset_zeros, children_hidden_layers, virgin_hidden_layers, x_test, y_test)"
   ]
  },
  {
   "cell_type": "code",
   "execution_count": 41,
   "metadata": {
    "collapsed": false
   },
   "outputs": [
    {
     "name": "stdout",
     "output_type": "stream",
     "text": [
      "test set accuracy: 0.2574178027265437\n",
      "validation test accuracy per epoch: [ 0.18556701  0.18556701  0.21305842  0.23367698  0.24054983  0.23024055\n",
      "  0.23024055  0.22680412  0.21993127  0.22680412  0.24054983  0.25085911\n",
      "  0.25773196  0.25085911  0.25085911  0.25085911  0.25085911  0.24742268\n",
      "  0.24398625  0.24742268  0.24742268  0.24742268  0.25085911  0.25085911\n",
      "  0.25085911  0.25085911  0.25085911  0.24742268  0.25085911  0.24742268\n",
      "  0.25085911  0.25085911  0.25085911  0.25085911  0.24742268  0.24742268\n",
      "  0.24742268  0.24398625  0.24398625  0.24398625  0.24398625  0.24398625\n",
      "  0.24398625  0.24398625  0.24054983  0.2371134   0.2371134   0.2371134\n",
      "  0.2371134   0.2371134   0.23367698  0.23367698  0.23367698  0.23367698\n",
      "  0.23024055  0.23024055  0.23024055  0.23024055  0.22680412  0.22680412\n",
      "  0.2233677   0.2233677   0.2233677   0.2233677   0.2233677   0.2233677\n",
      "  0.22680412  0.22680412  0.22680412  0.22680412  0.22680412  0.22680412\n",
      "  0.2233677   0.2233677   0.2233677   0.2233677   0.2233677   0.22680412\n",
      "  0.22680412  0.22680412  0.22680412  0.22680412  0.22680412  0.22680412\n",
      "  0.23024055  0.23024055  0.23024055  0.23024055  0.23024055  0.23367698\n",
      "  0.23367698  0.23367698  0.23367698  0.23367698  0.23367698  0.23024055\n",
      "  0.23024055  0.23024055  0.23024055  0.23024055]\n",
      "Best Epoch: 12\n"
     ]
    }
   ],
   "source": [
    "'''Try a Synthesis Network with 1 layers stripped away, 1 virgin layers, no interconnections, immutable weights'''\n",
    "virgin_hidden_layers = [160]\n",
    "strip_layers = 1\n",
    "skip_layers = 1\n",
    "selective_weights = 0\n",
    "reset_zeros = 0\n",
    "layer_weights_rand = [0, 1]\n",
    "epochs = 100\n",
    "\n",
    "ac4, er4, acs4, e4 = SNN(x_train, y_train, alpha, reg, epochs, w_children, b_children, strip_layers, skip_layers,validation_frac,\n",
    "    layer_weights_rand, selective_weights, reset_zeros, children_hidden_layers, virgin_hidden_layers, x_test, y_test)"
   ]
  },
  {
   "cell_type": "code",
   "execution_count": 45,
   "metadata": {
    "collapsed": false
   },
   "outputs": [
    {
     "name": "stdout",
     "output_type": "stream",
     "text": [
      "test set accuracy: 0.16599839615076184\n",
      "validation test accuracy per epoch: [ 0.18213058  0.18213058  0.18213058  0.18213058  0.18213058  0.18213058\n",
      "  0.18213058  0.18213058  0.18213058  0.18213058  0.18213058  0.18213058\n",
      "  0.18213058  0.18213058  0.18213058  0.18213058  0.18213058  0.18213058\n",
      "  0.18213058  0.18213058  0.18213058  0.18213058  0.18213058  0.18213058\n",
      "  0.18213058  0.18213058  0.18213058  0.18213058  0.18213058  0.18213058\n",
      "  0.18213058  0.18213058  0.18213058  0.18213058  0.18213058  0.18213058\n",
      "  0.18213058  0.18213058  0.18213058  0.18213058  0.18213058  0.18213058\n",
      "  0.18213058  0.18213058  0.18213058  0.18213058  0.18213058  0.18213058\n",
      "  0.18213058  0.18213058  0.18213058  0.18213058  0.18213058  0.18213058\n",
      "  0.18213058  0.18213058  0.18213058  0.18213058  0.18213058  0.18213058\n",
      "  0.18213058  0.18213058  0.18213058  0.18213058  0.18213058  0.18213058\n",
      "  0.18213058  0.18213058  0.18213058  0.18213058  0.18213058  0.18213058\n",
      "  0.18213058  0.18213058  0.18213058  0.18213058  0.18213058  0.18213058\n",
      "  0.18213058  0.18213058  0.18213058  0.18213058  0.18213058  0.18213058\n",
      "  0.18213058  0.18213058  0.18213058  0.18213058  0.18213058  0.18213058\n",
      "  0.18213058  0.18213058  0.18213058  0.18213058  0.18213058  0.18213058\n",
      "  0.18213058  0.18213058  0.18213058  0.18213058]\n",
      "Best Epoch: 0\n"
     ]
    }
   ],
   "source": [
    "'''TEST EVERYTHING MUTABLE'''\n",
    "'''Try a Synthesis Network with no layers stripped away, 1 virgin layers, with interconnections, mutable weights'''\n",
    "virgin_hidden_layers = [19]\n",
    "strip_layers = 0\n",
    "skip_layers = 0\n",
    "selective_weights = 0\n",
    "reset_zeros = 0\n",
    "layer_weights_rand = [0, 1, 1]\n",
    "epochs = 100\n",
    "\n",
    "ac62, er62, acs62, e62 = SNN(x_train, y_train, alpha, reg, epochs,w_children,b_children,strip_layers,skip_layers,validation_frac,\n",
    "    layer_weights_rand, selective_weights, reset_zeros, children_hidden_layers, virgin_hidden_layers, x_test, y_test)"
   ]
  },
  {
   "cell_type": "code",
   "execution_count": 43,
   "metadata": {
    "collapsed": false
   },
   "outputs": [
    {
     "name": "stdout",
     "output_type": "stream",
     "text": [
      "test set accuracy: 0.16599839615076184\n",
      "validation test accuracy per epoch: [ 0.18213058  0.18213058  0.18213058  0.18213058  0.18213058  0.18213058\n",
      "  0.18213058  0.18213058  0.18213058  0.18213058  0.18213058  0.18213058\n",
      "  0.18213058  0.18213058  0.18213058  0.18213058  0.18213058  0.18213058\n",
      "  0.18213058  0.18213058  0.18213058  0.18213058  0.18213058  0.18213058\n",
      "  0.18213058  0.18213058  0.18213058  0.18213058  0.18213058  0.18213058\n",
      "  0.18213058  0.18213058  0.18213058  0.18213058  0.18213058  0.18213058\n",
      "  0.18213058  0.18213058  0.18213058  0.18213058  0.18213058  0.18213058\n",
      "  0.18213058  0.18213058  0.18213058  0.18213058  0.18213058  0.18213058\n",
      "  0.18213058  0.18213058  0.18213058  0.18213058  0.18213058  0.18213058\n",
      "  0.18213058  0.18213058  0.18213058  0.18213058  0.18213058  0.18213058\n",
      "  0.18213058  0.18213058  0.18213058  0.18213058  0.18213058  0.18213058\n",
      "  0.18213058  0.18213058  0.18213058  0.18213058  0.18213058  0.18213058\n",
      "  0.18213058  0.18213058  0.18213058  0.18213058  0.18213058  0.18213058\n",
      "  0.18213058  0.18213058  0.18213058  0.18213058  0.18213058  0.18213058\n",
      "  0.18213058  0.18213058  0.18213058  0.18213058  0.18213058  0.18213058\n",
      "  0.18213058  0.18213058  0.18213058  0.18213058  0.18213058  0.18213058\n",
      "  0.18213058  0.18213058  0.18213058  0.18213058]\n",
      "Best Epoch: 0\n"
     ]
    }
   ],
   "source": [
    "'''Try a Synthesis Network with no layers stripped away, 1 virgin layers, mutable interconnections, immutable weights'''\n",
    "virgin_hidden_layers = [19]\n",
    "strip_layers = 0\n",
    "skip_layers = 1\n",
    "selective_weights = 1\n",
    "reset_zeros = 0\n",
    "layer_weights_rand = [0, 0, 1]\n",
    "epochs = 100\n",
    "\n",
    "ac3B, er3B, acs3B, e3B = SNN(x_train, y_train, alpha, reg, epochs,w_children,b_children,strip_layers,skip_layers,validation_frac,\n",
    "    layer_weights_rand, selective_weights, reset_zeros, children_hidden_layers, virgin_hidden_layers, x_test, y_test)"
   ]
  },
  {
   "cell_type": "markdown",
   "metadata": {},
   "source": [
    "**After seeing very encouraging results with some of our architectures, especially in terms of how quickly the parent NN's train and reach maximum accuracy compared to a standard FFNN, we decided to test how our architectures would fare on very small data sets, reasoning that class or feature specialization might be especially effective in those cases by making the most out of the small number of examples to learn from.\n",
    "We decided to train our models on 5% of the MNIST data set, a small fraction of the original but still a total of 700 examples, about 7 examples per class.**"
   ]
  },
  {
   "cell_type": "code",
   "execution_count": 65,
   "metadata": {
    "collapsed": true
   },
   "outputs": [],
   "source": [
    "'''Setup MNIST'''\n",
    "dataset = 'mnist'\n",
    "balance = 0\n",
    "alpha = 0.1\n",
    "reg = 0\n",
    "validation_frac = .1\n",
    "\n",
    "x_train, y_train, x_test, y_test = preprocess_mldata(dataset, .05)"
   ]
  },
  {
   "cell_type": "code",
   "execution_count": 66,
   "metadata": {
    "collapsed": false
   },
   "outputs": [
    {
     "name": "stdout",
     "output_type": "stream",
     "text": [
      "children accuracy is [0.9919998796974391, 0.9912479886915593, 0.9800448127039504, 0.9754282019278485, 0.9818042376577092, 0.9775786102046647, 0.9873231176408668, 0.9819245402186499, 0.9737138904344427, 0.9761049038331403]\n",
      "best epochs for children are [4, 5, 0, 12, 3, 7, 2, 4, 0, 7]\n"
     ]
    }
   ],
   "source": [
    "'''IMBALANCE TEST: Create Children that are Specialized by Class and with imbalanced training datasets'''\n",
    "balance = 0\n",
    "specialize_by = 'class'\n",
    "children_hidden_layers = [20]\n",
    "epochs = 20\n",
    "\n",
    "w_children, b_children, acc_children, ep_accs, best_epochs = Child_Spawner(x_train, y_train, children_hidden_layers, specialize_by, \n",
    "                                                     balance, alpha, reg, epochs, validation_frac, x_test, y_test)\n",
    "print('children accuracy is', acc_children)\n",
    "print('best epochs for children are', best_epochs)"
   ]
  },
  {
   "cell_type": "markdown",
   "metadata": {},
   "source": [
    "**Once again, we start by running a standard FFNN for comparison purposes.**"
   ]
  },
  {
   "cell_type": "code",
   "execution_count": 67,
   "metadata": {
    "collapsed": false
   },
   "outputs": [
    {
     "name": "stdout",
     "output_type": "stream",
     "text": [
      "0.9114873907878314\n",
      "[ 0.88857143  0.88571429  0.9         0.89714286  0.90571429  0.90571429\n",
      "  0.90285714  0.91142857  0.90857143  0.90857143  0.90857143  0.90857143\n",
      "  0.91142857  0.91142857  0.91428571  0.91142857  0.90857143  0.90857143\n",
      "  0.90857143  0.90857143  0.90857143  0.90571429  0.90285714  0.90285714\n",
      "  0.90285714  0.90285714  0.9         0.90285714  0.90571429  0.90285714\n",
      "  0.9         0.9         0.9         0.9         0.9         0.9         0.9\n",
      "  0.90285714  0.90285714  0.90285714]\n"
     ]
    }
   ],
   "source": [
    "'''Test a standard 3 Layer FFNN'''\n",
    "epochs = 40\n",
    "layer_sizes = [784, 200, 10]\n",
    "w, b, errors, accs, best_epoch = FFNN(x_train, y_train, layer_sizes, alpha, reg, \n",
    "                    epochs, [], [], 0, 0, np.ones([len(layer_sizes)]), 0, 0, validation_frac)\n",
    "acc, conf_mat = FFNN_acc(x_test, y_test, layer_sizes, w, b)\n",
    "print(acc)\n",
    "print(accs)"
   ]
  },
  {
   "cell_type": "code",
   "execution_count": 68,
   "metadata": {
    "collapsed": false
   },
   "outputs": [
    {
     "name": "stdout",
     "output_type": "stream",
     "text": [
      "test set accuracy: 0.919276981608746\n",
      "validation test accuracy per epoch: [ 0.91714286  0.91714286  0.91714286  0.92        0.91714286  0.91714286\n",
      "  0.91714286  0.92        0.92        0.92285714  0.92285714  0.92285714\n",
      "  0.92        0.92        0.92        0.92        0.92        0.92        0.92\n",
      "  0.92        0.92        0.92        0.92        0.92        0.92        0.92\n",
      "  0.92        0.92        0.92        0.92        0.92        0.92        0.92\n",
      "  0.92        0.92        0.92        0.92        0.92        0.92        0.92      ]\n",
      "Best Epoch: 9\n"
     ]
    }
   ],
   "source": [
    "'''Try a Synthesis Network with 1 layers stripped away, 1 virgin layers, no interconnections, immutable weights'''\n",
    "virgin_hidden_layers = [200]\n",
    "strip_layers = 1\n",
    "skip_layers = 1\n",
    "selective_weights = 0\n",
    "reset_zeros = 0\n",
    "layer_weights_rand = [0, 1]\n",
    "epochs = 40\n",
    "\n",
    "ac4, er4, acs4, e4 = SNN(x_train, y_train, alpha, reg, epochs, w_children, b_children, strip_layers, skip_layers,validation_frac,\n",
    "    layer_weights_rand, selective_weights, reset_zeros, children_hidden_layers, virgin_hidden_layers, x_test, y_test)"
   ]
  },
  {
   "cell_type": "code",
   "execution_count": 69,
   "metadata": {
    "collapsed": false
   },
   "outputs": [
    {
     "name": "stdout",
     "output_type": "stream",
     "text": [
      "test set accuracy: 0.9180438803591031\n",
      "validation test accuracy per epoch: [ 0.91714286  0.91714286  0.92        0.92        0.92        0.92        0.92\n",
      "  0.92        0.92285714  0.92285714  0.92285714  0.92285714  0.92285714\n",
      "  0.92285714  0.92285714  0.92285714  0.92285714  0.92285714  0.92285714\n",
      "  0.92285714  0.92285714  0.92285714  0.92        0.92        0.92        0.92\n",
      "  0.92        0.92        0.92        0.92        0.92        0.92        0.92\n",
      "  0.92        0.92        0.92        0.92        0.92        0.92        0.92      ]\n",
      "Best Epoch: 8\n"
     ]
    }
   ],
   "source": [
    "'''Try a Synthesis Network with no layers stripped away, no virgin layers, with interconnections, immutable weights'''\n",
    "virgin_hidden_layers = []\n",
    "strip_layers = 0\n",
    "skip_layers = 1\n",
    "selective_weights = 0\n",
    "reset_zeros = 0\n",
    "layer_weights_rand = [0, 1]\n",
    "epochs = 40\n",
    "\n",
    "ac4, er4, acs4, e4 = SNN(x_train, y_train, alpha, reg, epochs, w_children, b_children, strip_layers, skip_layers,validation_frac,\n",
    "    layer_weights_rand, selective_weights, reset_zeros, children_hidden_layers, virgin_hidden_layers, x_test, y_test)"
   ]
  },
  {
   "cell_type": "code",
   "execution_count": 70,
   "metadata": {
    "collapsed": false
   },
   "outputs": [
    {
     "name": "stdout",
     "output_type": "stream",
     "text": [
      "test set accuracy: 0.9193371328892164\n",
      "validation test accuracy per epoch: [ 0.91428571  0.91714286  0.91714286  0.92        0.92        0.92        0.92\n",
      "  0.92        0.92        0.92        0.92        0.91714286  0.91714286\n",
      "  0.92        0.92        0.92        0.91714286  0.91714286  0.91714286\n",
      "  0.91714286  0.91714286  0.91714286  0.91714286  0.91714286  0.91714286\n",
      "  0.91714286  0.91714286  0.91714286  0.91714286  0.91714286  0.91714286\n",
      "  0.91714286  0.91714286  0.91714286  0.91714286  0.91714286  0.91714286\n",
      "  0.91714286  0.91714286  0.91714286]\n",
      "Best Epoch: 3\n"
     ]
    }
   ],
   "source": [
    "'''Try a Synthesis Network with 1 layers stripped away, 1 virgin layers, no interconnections, immutable weights'''\n",
    "virgin_hidden_layers = []\n",
    "strip_layers = 0\n",
    "skip_layers = 0\n",
    "selective_weights = 0\n",
    "reset_zeros = 0\n",
    "layer_weights_rand = [0, 0]\n",
    "epochs = 40\n",
    "\n",
    "ac4, er4, acs4, e4 = SNN(x_train, y_train, alpha, reg, epochs, w_children, b_children, strip_layers, skip_layers,validation_frac,\n",
    "    layer_weights_rand, selective_weights, reset_zeros, children_hidden_layers, virgin_hidden_layers, x_test, y_test)"
   ]
  },
  {
   "cell_type": "code",
   "execution_count": 71,
   "metadata": {
    "collapsed": false
   },
   "outputs": [
    {
     "name": "stdout",
     "output_type": "stream",
     "text": [
      "test set accuracy: 0.9179987668987504\n",
      "validation test accuracy per epoch: [ 0.91714286  0.91714286  0.91714286  0.91714286  0.91714286  0.91714286\n",
      "  0.91714286  0.91714286  0.91714286  0.91714286  0.91714286  0.91714286\n",
      "  0.91714286  0.91714286  0.91714286  0.91714286  0.91714286  0.91714286\n",
      "  0.91714286  0.91714286  0.91714286  0.91714286  0.91714286  0.91714286\n",
      "  0.91714286  0.91714286  0.91714286  0.91714286  0.91714286  0.91714286\n",
      "  0.91714286  0.91714286  0.91714286  0.91714286  0.91714286  0.91714286\n",
      "  0.91714286  0.91714286  0.91714286  0.91714286]\n",
      "Best Epoch: 0\n"
     ]
    }
   ],
   "source": [
    "'''Try a Synthesis Network with 0 layers stripped away, no virgin layers, no interconnections, immutable weights'''\n",
    "virgin_hidden_layers = []\n",
    "strip_layers = 0\n",
    "skip_layers = 0\n",
    "selective_weights = 1\n",
    "reset_zeros = 1\n",
    "layer_weights_rand = [0, 0]\n",
    "epochs = 40\n",
    "\n",
    "ac4, er4, acs4, e4 = SNN(x_train, y_train, alpha, reg, epochs, w_children, b_children, strip_layers, skip_layers,validation_frac,\n",
    "    layer_weights_rand, selective_weights, reset_zeros, children_hidden_layers, virgin_hidden_layers, x_test, y_test)"
   ]
  }
 ],
 "metadata": {
  "anaconda-cloud": {},
  "kernelspec": {
   "display_name": "Python [Root]",
   "language": "python",
   "name": "Python [Root]"
  },
  "language_info": {
   "codemirror_mode": {
    "name": "ipython",
    "version": 3
   },
   "file_extension": ".py",
   "mimetype": "text/x-python",
   "name": "python",
   "nbconvert_exporter": "python",
   "pygments_lexer": "ipython3",
   "version": "3.5.2"
  }
 },
 "nbformat": 4,
 "nbformat_minor": 0
}
